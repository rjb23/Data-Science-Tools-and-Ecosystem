{
 "cells": [
  {
   "cell_type": "markdown",
   "id": "04bccd89",
   "metadata": {},
   "source": [
    " # Data Science Tools and Ecosystem"
   ]
  },
  {
   "cell_type": "markdown",
   "id": "6f1afeba",
   "metadata": {},
   "source": [
    "In this notebook, Data Science Tools and Ecosystem are summarized."
   ]
  },
  {
   "cell_type": "markdown",
   "id": "c244c5da",
   "metadata": {},
   "source": [
    "\n",
    "# Objectives:\n",
    "\n",
    "* [ Python ] \n",
    "* [ Sql ] \n",
    "* [Data Science Tools and Libraries ] "
   ]
  },
  {
   "cell_type": "markdown",
   "id": "63a89032",
   "metadata": {},
   "source": [
    "Some of the popular languages that Data Scientists use are: \n",
    "    1. Python\n",
    "    2. Java\n",
    "    3. R\n"
   ]
  },
  {
   "cell_type": "markdown",
   "id": "492a60ba",
   "metadata": {},
   "source": [
    "Some of the commonly used libraries used by Data Scientists include:\n",
    "    1. Pandas\n",
    "    2. Scikit-learn\n",
    "    3. TensorFlow\n",
    "    4. PyTorch"
   ]
  },
  {
   "cell_type": "markdown",
   "id": "5e57a275",
   "metadata": {},
   "source": [
    "Data Science Tools\n",
    "-----------------------------------------------------------------------------------------------------------\n",
    "Python          \n",
    "R               \n",
    "SQL             \n",
    "Tableau         \n",
    "Apache Spark    \n",
    "Excel           \n"
   ]
  },
  {
   "cell_type": "markdown",
   "id": "6adde97f",
   "metadata": {},
   "source": [
    "# Evaluating Arithmetic Expressions in Python\n",
    "\n",
    "### Below are a few examples of evaluating arithmetic expressions in Python\n",
    "\n"
   ]
  },
  {
   "cell_type": "code",
   "execution_count": 1,
   "id": "d50029e2",
   "metadata": {},
   "outputs": [
    {
     "data": {
      "text/plain": [
       "17"
      ]
     },
     "execution_count": 1,
     "metadata": {},
     "output_type": "execute_result"
    }
   ],
   "source": [
    "# This a simple arithmetic expression to mutiply then add integers\n",
    "\n",
    "(3*4)+5\n"
   ]
  },
  {
   "cell_type": "code",
   "execution_count": 2,
   "id": "e3c28559",
   "metadata": {},
   "outputs": [
    {
     "name": "stdout",
     "output_type": "stream",
     "text": [
      "3.3333333333333335\n"
     ]
    }
   ],
   "source": [
    "# This will convert 200 minutes to hours by dividing by 60\n",
    "\n",
    "minutes = 200\n",
    "hours = minutes / 60\n",
    "print(hours)\n"
   ]
  },
  {
   "cell_type": "markdown",
   "id": "f9a1c3ec",
   "metadata": {},
   "source": [
    "## Author:\n",
    "Roberto J. Benavidez"
   ]
  },
  {
   "cell_type": "code",
   "execution_count": null,
   "id": "d72902b1",
   "metadata": {},
   "outputs": [],
   "source": []
  }
 ],
 "metadata": {
  "kernelspec": {
   "display_name": "Python 3 (ipykernel)",
   "language": "python",
   "name": "python3"
  },
  "language_info": {
   "codemirror_mode": {
    "name": "ipython",
    "version": 3
   },
   "file_extension": ".py",
   "mimetype": "text/x-python",
   "name": "python",
   "nbconvert_exporter": "python",
   "pygments_lexer": "ipython3",
   "version": "3.9.7"
  }
 },
 "nbformat": 4,
 "nbformat_minor": 5
}
